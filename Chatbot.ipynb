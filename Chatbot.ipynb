{
 "cells": [
  {
   "cell_type": "code",
   "execution_count": 1,
   "id": "7704d1d6-6488-421d-86f5-683992b81a08",
   "metadata": {},
   "outputs": [
    {
     "name": "stdout",
     "output_type": "stream",
     "text": [
      "  flags                                          utterance category  \\\n",
      "0    BM            I have problems with canceling an order    ORDER   \n",
      "1   BIM  how can I find information about canceling ord...    ORDER   \n",
      "2     B          I need help with canceling the last order    ORDER   \n",
      "3   BIP  could you help me cancelling the last order I ...    ORDER   \n",
      "4     B            problem with cancelling an order I made    ORDER   \n",
      "\n",
      "         intent  \n",
      "0  cancel_order  \n",
      "1  cancel_order  \n",
      "2  cancel_order  \n",
      "3  cancel_order  \n",
      "4  cancel_order  \n",
      "<class 'pandas.core.frame.DataFrame'>\n",
      "RangeIndex: 8175 entries, 0 to 8174\n",
      "Data columns (total 4 columns):\n",
      " #   Column     Non-Null Count  Dtype \n",
      "---  ------     --------------  ----- \n",
      " 0   flags      8175 non-null   object\n",
      " 1   utterance  8175 non-null   object\n",
      " 2   category   8175 non-null   object\n",
      " 3   intent     8175 non-null   object\n",
      "dtypes: object(4)\n",
      "memory usage: 255.6+ KB\n",
      "None\n"
     ]
    }
   ],
   "source": [
    "import pandas as pd\n",
    "\n",
    "# Load the dataset (replace 'your_dataset.csv' with the actual filename)\n",
    "file_path = 'Bitext_Sample_Customer_Service_Training_Dataset.csv'\n",
    "data = pd.read_csv(file_path)\n",
    "\n",
    "# Display the first few rows of the dataset to understand its structure\n",
    "print(data.head())\n",
    "\n",
    "# Check basic info about the dataset\n",
    "print(data.info())\n"
   ]
  },
  {
   "cell_type": "code",
   "execution_count": 2,
   "id": "58076cf6-90a2-4296-a33d-4150e34b2bf7",
   "metadata": {},
   "outputs": [
    {
     "name": "stdout",
     "output_type": "stream",
     "text": [
      "flags        0\n",
      "utterance    0\n",
      "category     0\n",
      "intent       0\n",
      "dtype: int64\n",
      "0              i have problems with canceling an order\n",
      "1    how can i find information about canceling orders\n",
      "2            i need help with canceling the last order\n",
      "3    could you help me cancelling the last order i ...\n",
      "4              problem with cancelling an order i made\n",
      "Name: utterance_cleaned, dtype: object\n"
     ]
    }
   ],
   "source": [
    "# Check for missing values\n",
    "print(data.isnull().sum())\n",
    "\n",
    "# Remove rows with missing values (if any)\n",
    "data_cleaned = data.dropna()\n",
    "\n",
    "# Function to clean text data\n",
    "import re\n",
    "\n",
    "def clean_text(text):\n",
    "    # Remove special characters and digits\n",
    "    text = re.sub(r'[^a-zA-Z\\s]', '', text)\n",
    "    # Convert text to lowercase\n",
    "    text = text.lower().strip()\n",
    "    return text\n",
    "\n",
    "# Apply the cleaning function to the 'utterance' column\n",
    "data_cleaned['utterance_cleaned'] = data_cleaned['utterance'].apply(clean_text)\n",
    "\n",
    "# Display the cleaned text data\n",
    "print(data_cleaned['utterance_cleaned'].head())\n"
   ]
  },
  {
   "cell_type": "code",
   "execution_count": 3,
   "id": "b0adf67e-b7bb-4a69-9d8e-85372fb68277",
   "metadata": {},
   "outputs": [
    {
     "name": "stdout",
     "output_type": "stream",
     "text": [
      "(8175, 612)\n"
     ]
    }
   ],
   "source": [
    "from sklearn.feature_extraction.text import TfidfVectorizer\n",
    "\n",
    "# Initialize the TF-IDF Vectorizer\n",
    "tfidf_vectorizer = TfidfVectorizer(max_features=1000, stop_words='english')\n",
    "\n",
    "# Fit and transform the cleaned utterances\n",
    "X = tfidf_vectorizer.fit_transform(data_cleaned['utterance_cleaned'])\n",
    "\n",
    "# Display the shape of the TF-IDF matrix\n",
    "print(X.shape)\n"
   ]
  },
  {
   "cell_type": "code",
   "execution_count": 4,
   "id": "84349117-e82b-4e46-96f7-06a61b999757",
   "metadata": {},
   "outputs": [
    {
     "name": "stdout",
     "output_type": "stream",
     "text": [
      "['cancel_order' 'change_order' 'change_shipping_address'\n",
      " 'check_cancellation_fee' 'check_invoice' 'check_payment_methods'\n",
      " 'check_refund_policy' 'complaint' 'contact_customer_service'\n",
      " 'contact_human_agent' 'create_account' 'delete_account'\n",
      " 'delivery_options' 'delivery_period' 'edit_account' 'get_invoice'\n",
      " 'get_refund' 'newsletter_subscription' 'payment_issue' 'place_order'\n",
      " 'recover_password' 'registration_problems' 'review'\n",
      " 'set_up_shipping_address' 'switch_account' 'track_order' 'track_refund']\n"
     ]
    }
   ],
   "source": [
    "from sklearn.preprocessing import LabelEncoder\n",
    "\n",
    "# Encode the 'intent' column into numerical labels\n",
    "label_encoder = LabelEncoder()\n",
    "y = label_encoder.fit_transform(data_cleaned['intent'])\n",
    "\n",
    "# Display the unique intents and their encoded values\n",
    "print(label_encoder.classes_)\n"
   ]
  },
  {
   "cell_type": "code",
   "execution_count": 5,
   "id": "8c88c164-d8da-4802-a571-5949a7f3803a",
   "metadata": {},
   "outputs": [
    {
     "name": "stdout",
     "output_type": "stream",
     "text": [
      "Training set size: (6540, 612)\n",
      "Testing set size: (1635, 612)\n"
     ]
    }
   ],
   "source": [
    "from sklearn.model_selection import train_test_split\n",
    "\n",
    "# Split the data into training and testing sets\n",
    "X_train, X_test, y_train, y_test = train_test_split(X, y, test_size=0.2, random_state=42)\n",
    "\n",
    "print(\"Training set size:\", X_train.shape)\n",
    "print(\"Testing set size:\", X_test.shape)\n"
   ]
  },
  {
   "cell_type": "code",
   "execution_count": 9,
   "id": "c700f92c-3f2b-4572-b189-392bdc86c17c",
   "metadata": {},
   "outputs": [
    {
     "name": "stdout",
     "output_type": "stream",
     "text": [
      "Logistic Regression Accuracy: 97.74%\n",
      "                          precision    recall  f1-score   support\n",
      "\n",
      "            cancel_order       0.98      0.98      0.98        62\n",
      "            change_order       1.00      1.00      1.00        70\n",
      " change_shipping_address       1.00      0.98      0.99        60\n",
      "  check_cancellation_fee       0.98      0.98      0.98        66\n",
      "           check_invoice       0.93      0.65      0.77        63\n",
      "   check_payment_methods       1.00      0.96      0.98        68\n",
      "     check_refund_policy       0.98      1.00      0.99        59\n",
      "               complaint       1.00      1.00      1.00        52\n",
      "contact_customer_service       0.98      1.00      0.99        61\n",
      "     contact_human_agent       1.00      1.00      1.00        57\n",
      "          create_account       0.98      0.95      0.97        62\n",
      "          delete_account       0.98      1.00      0.99        53\n",
      "        delivery_options       0.96      1.00      0.98        55\n",
      "         delivery_period       0.98      1.00      0.99        49\n",
      "            edit_account       1.00      1.00      1.00        69\n",
      "             get_invoice       0.76      0.97      0.85        72\n",
      "              get_refund       0.98      0.98      0.98        60\n",
      " newsletter_subscription       1.00      1.00      1.00        49\n",
      "           payment_issue       1.00      0.99      0.99        68\n",
      "             place_order       1.00      1.00      1.00        65\n",
      "        recover_password       1.00      1.00      1.00        62\n",
      "   registration_problems       0.98      0.98      0.98        53\n",
      "                  review       1.00      1.00      1.00        67\n",
      " set_up_shipping_address       1.00      1.00      1.00        59\n",
      "          switch_account       0.98      1.00      0.99        57\n",
      "             track_order       1.00      1.00      1.00        63\n",
      "            track_refund       1.00      0.98      0.99        54\n",
      "\n",
      "                accuracy                           0.98      1635\n",
      "               macro avg       0.98      0.98      0.98      1635\n",
      "            weighted avg       0.98      0.98      0.98      1635\n",
      "\n"
     ]
    }
   ],
   "source": [
    "from sklearn.linear_model import LogisticRegression\n",
    "from sklearn.metrics import accuracy_score, classification_report\n",
    "\n",
    "# Initialize the Logistic Regression model\n",
    "log_reg_model = LogisticRegression(max_iter=200)\n",
    "\n",
    "# Train the model\n",
    "log_reg_model.fit(X_train, y_train)\n",
    "\n",
    "# Make predictions on the test set\n",
    "y_pred = log_reg_model.predict(X_test)\n",
    "\n",
    "# Evaluate the model\n",
    "accuracy = accuracy_score(y_test, y_pred)\n",
    "print(f\"Logistic Regression Accuracy: {accuracy * 100:.2f}%\")\n",
    "\n",
    "# Detailed classification report\n",
    "print(classification_report(y_test, y_pred, target_names=label_encoder.classes_))\n"
   ]
  },
  {
   "cell_type": "code",
   "execution_count": 8,
   "id": "b063244e-d5b6-4ab0-a2ba-5981427db54e",
   "metadata": {},
   "outputs": [
    {
     "name": "stdout",
     "output_type": "stream",
     "text": [
      "SVC Accuracy: 97.86%\n",
      "                          precision    recall  f1-score   support\n",
      "\n",
      "            cancel_order       1.00      1.00      1.00        62\n",
      "            change_order       0.99      1.00      0.99        70\n",
      " change_shipping_address       1.00      0.98      0.99        60\n",
      "  check_cancellation_fee       1.00      1.00      1.00        66\n",
      "           check_invoice       0.97      0.62      0.76        63\n",
      "   check_payment_methods       0.99      1.00      0.99        68\n",
      "     check_refund_policy       1.00      1.00      1.00        59\n",
      "               complaint       1.00      1.00      1.00        52\n",
      "contact_customer_service       0.98      1.00      0.99        61\n",
      "     contact_human_agent       0.98      1.00      0.99        57\n",
      "          create_account       0.98      0.94      0.96        62\n",
      "          delete_account       0.96      1.00      0.98        53\n",
      "        delivery_options       1.00      1.00      1.00        55\n",
      "         delivery_period       1.00      1.00      1.00        49\n",
      "            edit_account       0.99      0.99      0.99        69\n",
      "             get_invoice       0.75      0.99      0.85        72\n",
      "              get_refund       0.98      1.00      0.99        60\n",
      " newsletter_subscription       1.00      0.98      0.99        49\n",
      "           payment_issue       1.00      0.99      0.99        68\n",
      "             place_order       1.00      1.00      1.00        65\n",
      "        recover_password       1.00      1.00      1.00        62\n",
      "   registration_problems       1.00      0.98      0.99        53\n",
      "                  review       1.00      1.00      1.00        67\n",
      " set_up_shipping_address       1.00      1.00      1.00        59\n",
      "          switch_account       0.98      1.00      0.99        57\n",
      "             track_order       1.00      1.00      1.00        63\n",
      "            track_refund       1.00      0.98      0.99        54\n",
      "\n",
      "                accuracy                           0.98      1635\n",
      "               macro avg       0.98      0.98      0.98      1635\n",
      "            weighted avg       0.98      0.98      0.98      1635\n",
      "\n"
     ]
    }
   ],
   "source": [
    "from sklearn.svm import SVC\n",
    "\n",
    "model = SVC(kernel='linear')\n",
    "model.fit(X_train, y_train)\n",
    "y_pred = model.predict(X_test)\n",
    "# Evaluate the model\n",
    "accuracy = accuracy_score(y_test, y_pred)\n",
    "print(f\"SVC Accuracy: {accuracy * 100:.2f}%\")\n",
    "\n",
    "# Detailed classification report\n",
    "print(classification_report(y_test, y_pred, target_names=label_encoder.classes_))\n"
   ]
  },
  {
   "cell_type": "code",
   "execution_count": 32,
   "id": "4d0b2f3f-2043-45da-8d86-81167351d56e",
   "metadata": {},
   "outputs": [
    {
     "name": "stdout",
     "output_type": "stream",
     "text": [
      "RandomForestClassifier Accuracy: 96.94%\n",
      "                          precision    recall  f1-score   support\n",
      "\n",
      "            cancel_order       1.00      0.98      0.99        62\n",
      "            change_order       0.99      1.00      0.99        70\n",
      " change_shipping_address       1.00      0.98      0.99        60\n",
      "  check_cancellation_fee       1.00      1.00      1.00        66\n",
      "           check_invoice       0.75      0.67      0.71        63\n",
      "   check_payment_methods       0.99      1.00      0.99        68\n",
      "     check_refund_policy       0.98      1.00      0.99        59\n",
      "               complaint       1.00      1.00      1.00        52\n",
      "contact_customer_service       0.98      1.00      0.99        61\n",
      "     contact_human_agent       0.97      0.98      0.97        57\n",
      "          create_account       0.98      0.92      0.95        62\n",
      "          delete_account       0.96      1.00      0.98        53\n",
      "        delivery_options       1.00      1.00      1.00        55\n",
      "         delivery_period       0.98      1.00      0.99        49\n",
      "            edit_account       1.00      0.97      0.99        69\n",
      "             get_invoice       0.73      0.81      0.77        72\n",
      "              get_refund       0.98      0.98      0.98        60\n",
      " newsletter_subscription       1.00      0.98      0.99        49\n",
      "           payment_issue       1.00      0.99      0.99        68\n",
      "             place_order       1.00      1.00      1.00        65\n",
      "        recover_password       1.00      1.00      1.00        62\n",
      "   registration_problems       1.00      1.00      1.00        53\n",
      "                  review       1.00      1.00      1.00        67\n",
      " set_up_shipping_address       1.00      1.00      1.00        59\n",
      "          switch_account       0.95      0.98      0.97        57\n",
      "             track_order       0.98      1.00      0.99        63\n",
      "            track_refund       1.00      0.98      0.99        54\n",
      "\n",
      "                accuracy                           0.97      1635\n",
      "               macro avg       0.97      0.97      0.97      1635\n",
      "            weighted avg       0.97      0.97      0.97      1635\n",
      "\n"
     ]
    }
   ],
   "source": [
    "from sklearn.ensemble import RandomForestClassifier\n",
    "\n",
    "model = RandomForestClassifier(n_estimators=100, random_state=42)\n",
    "model.fit(X_train, y_train)\n",
    "y_pred = model.predict(X_test)\n",
    " #Evaluate the model\n",
    "accuracy = accuracy_score(y_test, y_pred)\n",
    "print(f\"RandomForestClassifier Accuracy: {accuracy * 100:.2f}%\")\n",
    "\n",
    "# Detailed classification report\n",
    "print(classification_report(y_test, y_pred, target_names=label_encoder.classes_))\n"
   ]
  },
  {
   "cell_type": "code",
   "execution_count": 33,
   "id": "660ffbbe-e2a6-4656-943e-1cfb196af0b9",
   "metadata": {},
   "outputs": [
    {
     "name": "stdout",
     "output_type": "stream",
     "text": [
      "MultinomialNB Accuracy: 97.19%\n",
      "                          precision    recall  f1-score   support\n",
      "\n",
      "            cancel_order       0.98      0.98      0.98        62\n",
      "            change_order       1.00      1.00      1.00        70\n",
      " change_shipping_address       1.00      0.98      0.99        60\n",
      "  check_cancellation_fee       0.98      0.98      0.98        66\n",
      "           check_invoice       0.88      0.68      0.77        63\n",
      "   check_payment_methods       1.00      0.96      0.98        68\n",
      "     check_refund_policy       0.98      0.98      0.98        59\n",
      "               complaint       1.00      1.00      1.00        52\n",
      "contact_customer_service       0.95      1.00      0.98        61\n",
      "     contact_human_agent       1.00      0.98      0.99        57\n",
      "          create_account       1.00      0.95      0.98        62\n",
      "          delete_account       1.00      1.00      1.00        53\n",
      "        delivery_options       0.96      1.00      0.98        55\n",
      "         delivery_period       1.00      1.00      1.00        49\n",
      "            edit_account       1.00      1.00      1.00        69\n",
      "             get_invoice       0.77      0.92      0.84        72\n",
      "              get_refund       1.00      0.87      0.93        60\n",
      " newsletter_subscription       0.98      1.00      0.99        49\n",
      "           payment_issue       1.00      0.99      0.99        68\n",
      "             place_order       1.00      1.00      1.00        65\n",
      "        recover_password       1.00      1.00      1.00        62\n",
      "   registration_problems       0.98      1.00      0.99        53\n",
      "                  review       0.99      1.00      0.99        67\n",
      " set_up_shipping_address       0.98      1.00      0.99        59\n",
      "          switch_account       0.98      1.00      0.99        57\n",
      "             track_order       1.00      1.00      1.00        63\n",
      "            track_refund       0.89      1.00      0.94        54\n",
      "\n",
      "                accuracy                           0.97      1635\n",
      "               macro avg       0.97      0.97      0.97      1635\n",
      "            weighted avg       0.97      0.97      0.97      1635\n",
      "\n"
     ]
    }
   ],
   "source": [
    "from sklearn.naive_bayes import MultinomialNB\n",
    "\n",
    "model = MultinomialNB()\n",
    "model.fit(X_train, y_train)\n",
    "y_pred = model.predict(X_test)\n",
    "#Evaluate the model\n",
    "accuracy = accuracy_score(y_test, y_pred)\n",
    "print(f\"MultinomialNB Accuracy: {accuracy * 100:.2f}%\")\n",
    "\n",
    "# Detailed classification report\n",
    "print(classification_report(y_test, y_pred, target_names=label_encoder.classes_))\n",
    "\n",
    "\n"
   ]
  },
  {
   "cell_type": "code",
   "execution_count": 9,
   "id": "0b543790-299a-4c90-8bf8-cbaa49413eb6",
   "metadata": {},
   "outputs": [],
   "source": [
    "# Define responses for each intent\n",
    "responses = {\n",
    "    'cancel_order': \"Your order has been canceled.\",\n",
    "    'complaint': \"I'm sorry to hear that you have a complaint. Let me help you with that.\",\n",
    "    'contact_customer_service': \"You can reach customer service via email or phone.\",\n",
    "    'track_order': \"You can track your order by visiting the tracking page.\",\n",
    "    'payment_issue': \"It looks like there was a payment issue. Please check your payment method.\",\n",
    "    'get_refund': \"You can request a refund by filling out the form on our website.\",\n",
    "    # Add more responses for each intent as needed\n",
    "}\n",
    "\n",
    "# Function to predict intent and respond\n",
    "def get_response(user_input):\n",
    "    # Clean the user input\n",
    "    user_input_cleaned = clean_text(user_input)\n",
    "    \n",
    "    # Convert the input into the same format as our training data\n",
    "    user_input_vectorized = tfidf_vectorizer.transform([user_input_cleaned])\n",
    "    \n",
    "    # Predict the intent using the Logistic Regression model\n",
    "    predicted_intent_index = log_reg_model.predict(user_input_vectorized)[0]\n",
    "    \n",
    "    # Convert the predicted index back to the intent label\n",
    "    predicted_intent = label_encoder.inverse_transform([predicted_intent_index])[0]\n",
    "    \n",
    "    # Get the chatbot response based on the predicted intent\n",
    "    response = responses.get(predicted_intent, \"Sorry, I didn't understand that.\")\n",
    "    \n",
    "    return response\n"
   ]
  },
  {
   "cell_type": "code",
   "execution_count": null,
   "id": "330f87f4-5a70-4bc1-aecd-3831d7f66e22",
   "metadata": {},
   "outputs": [],
   "source": []
  },
  {
   "cell_type": "code",
   "execution_count": 10,
   "id": "1d081b34-4d6e-423a-b630-9e065385752d",
   "metadata": {},
   "outputs": [
    {
     "name": "stdout",
     "output_type": "stream",
     "text": [
      "Chatbot is running. Type 'exit' to end the conversation.\n"
     ]
    },
    {
     "name": "stdin",
     "output_type": "stream",
     "text": [
      "You:  where is my order\n"
     ]
    },
    {
     "name": "stdout",
     "output_type": "stream",
     "text": [
      "Chatbot: You can track your order by visiting the tracking page.\n"
     ]
    },
    {
     "name": "stdin",
     "output_type": "stream",
     "text": [
      "You:  exit\n"
     ]
    },
    {
     "name": "stdout",
     "output_type": "stream",
     "text": [
      "Chatbot: Goodbye!\n"
     ]
    }
   ],
   "source": [
    "# Start the chatbot loop\n",
    "print(\"Chatbot is running. Type 'exit' to end the conversation.\")\n",
    "\n",
    "while True:\n",
    "    # Get user input\n",
    "    user_input = input(\"You: \")\n",
    "    \n",
    "    # Exit the chatbot loop if the user types 'exit'\n",
    "    if user_input.lower() == 'exit':\n",
    "        print(\"Chatbot: Goodbye!\")\n",
    "        break\n",
    "    \n",
    "    # Get chatbot response\n",
    "    response = get_response(user_input)\n",
    "    \n",
    "    # Print the chatbot response\n",
    "    print(f\"Chatbot: {response}\")\n"
   ]
  },
  {
   "cell_type": "code",
   "execution_count": 10,
   "id": "3721db1f-7623-46db-a9c9-625a103b0145",
   "metadata": {},
   "outputs": [
    {
     "name": "stdout",
     "output_type": "stream",
     "text": [
      "SVC Accuracy: 97.86%\n",
      "                          precision    recall  f1-score   support\n",
      "\n",
      "            cancel_order       1.00      1.00      1.00        62\n",
      "            change_order       0.99      1.00      0.99        70\n",
      " change_shipping_address       1.00      0.98      0.99        60\n",
      "  check_cancellation_fee       1.00      1.00      1.00        66\n",
      "           check_invoice       0.97      0.62      0.76        63\n",
      "   check_payment_methods       0.99      1.00      0.99        68\n",
      "     check_refund_policy       1.00      1.00      1.00        59\n",
      "               complaint       1.00      1.00      1.00        52\n",
      "contact_customer_service       0.98      1.00      0.99        61\n",
      "     contact_human_agent       0.98      1.00      0.99        57\n",
      "          create_account       0.98      0.94      0.96        62\n",
      "          delete_account       0.96      1.00      0.98        53\n",
      "        delivery_options       1.00      1.00      1.00        55\n",
      "         delivery_period       1.00      1.00      1.00        49\n",
      "            edit_account       0.99      0.99      0.99        69\n",
      "             get_invoice       0.75      0.99      0.85        72\n",
      "              get_refund       0.98      1.00      0.99        60\n",
      " newsletter_subscription       1.00      0.98      0.99        49\n",
      "           payment_issue       1.00      0.99      0.99        68\n",
      "             place_order       1.00      1.00      1.00        65\n",
      "        recover_password       1.00      1.00      1.00        62\n",
      "   registration_problems       1.00      0.98      0.99        53\n",
      "                  review       1.00      1.00      1.00        67\n",
      " set_up_shipping_address       1.00      1.00      1.00        59\n",
      "          switch_account       0.98      1.00      0.99        57\n",
      "             track_order       1.00      1.00      1.00        63\n",
      "            track_refund       1.00      0.98      0.99        54\n",
      "\n",
      "                accuracy                           0.98      1635\n",
      "               macro avg       0.98      0.98      0.98      1635\n",
      "            weighted avg       0.98      0.98      0.98      1635\n",
      "\n"
     ]
    }
   ],
   "source": [
    "from sklearn.svm import SVC\n",
    "\n",
    "model = SVC(kernel='linear')\n",
    "model.fit(X_train, y_train)\n",
    "y_pred = model.predict(X_test)\n",
    "# Evaluate the model\n",
    "accuracy = accuracy_score(y_test, y_pred)\n",
    "print(f\"SVC Accuracy: {accuracy * 100:.2f}%\")\n",
    "\n",
    "# Detailed classification report\n",
    "print(classification_report(y_test, y_pred, target_names=label_encoder.classes_))\n"
   ]
  },
  {
   "cell_type": "code",
   "execution_count": 12,
   "id": "adc5fe81-3c7d-42b5-adc1-0fa714832a84",
   "metadata": {},
   "outputs": [
    {
     "data": {
      "text/plain": [
       "['label_encoder.pkl']"
      ]
     },
     "execution_count": 12,
     "metadata": {},
     "output_type": "execute_result"
    }
   ],
   "source": [
    "import joblib\n",
    "\n",
    "# Save the trained Logistic Regression model\n",
    "joblib.dump(model, 'model.pkl')\n",
    "\n",
    "# Save the TF-IDF vectorizer\n",
    "joblib.dump(tfidf_vectorizer, 'tfidf_vectorizer.pkl')\n",
    "\n",
    "# Save the Label Encoder for intent mapping\n",
    "joblib.dump(label_encoder, 'label_encoder.pkl')\n"
   ]
  },
  {
   "cell_type": "code",
   "execution_count": null,
   "id": "e34d855d-9ec8-4b24-abe7-d6e7b7f9fe5b",
   "metadata": {},
   "outputs": [],
   "source": []
  }
 ],
 "metadata": {
  "kernelspec": {
   "display_name": "Python 3 (ipykernel)",
   "language": "python",
   "name": "python3"
  },
  "language_info": {
   "codemirror_mode": {
    "name": "ipython",
    "version": 3
   },
   "file_extension": ".py",
   "mimetype": "text/x-python",
   "name": "python",
   "nbconvert_exporter": "python",
   "pygments_lexer": "ipython3",
   "version": "3.11.7"
  }
 },
 "nbformat": 4,
 "nbformat_minor": 5
}
